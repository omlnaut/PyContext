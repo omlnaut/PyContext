{
 "cells": [
  {
   "cell_type": "code",
   "execution_count": 2,
   "metadata": {},
   "outputs": [],
   "source": [
    "import ast\n",
    "from pathlib import Path"
   ]
  },
  {
   "cell_type": "code",
   "execution_count": 3,
   "metadata": {},
   "outputs": [],
   "source": [
    "filename = Path(\"main.py\")\n",
    "content = filename.read_text()"
   ]
  },
  {
   "cell_type": "code",
   "execution_count": 4,
   "metadata": {},
   "outputs": [],
   "source": [
    "tree = ast.parse(content)"
   ]
  },
  {
   "cell_type": "code",
   "execution_count": 11,
   "metadata": {},
   "outputs": [
    {
     "name": "stdout",
     "output_type": "stream",
     "text": [
      "Module(\n",
      "  body=[\n",
      "    ImportFrom(\n",
      "      module='utils',\n",
      "      names=[\n",
      "        alias(name='greeting')],\n",
      "      level=0),\n",
      "    FunctionDef(\n",
      "      name='main',\n",
      "      args=arguments(\n",
      "        posonlyargs=[],\n",
      "        args=[],\n",
      "        kwonlyargs=[],\n",
      "        kw_defaults=[],\n",
      "        defaults=[]),\n",
      "      body=[\n",
      "        Expr(\n",
      "          value=Call(\n",
      "            func=Name(id='greeting', ctx=Load()),\n",
      "            args=[\n",
      "              Constant(value='Hello World')],\n",
      "            keywords=[]))],\n",
      "      decorator_list=[])],\n",
      "  type_ignores=[])\n"
     ]
    }
   ],
   "source": [
    "print(ast.dump(tree, indent=2))"
   ]
  },
  {
   "cell_type": "markdown",
   "metadata": {},
   "source": [
    "## Extracting function definitions"
   ]
  },
  {
   "cell_type": "code",
   "execution_count": 14,
   "metadata": {},
   "outputs": [],
   "source": [
    "def extract_function_names(parsed_ast):\n",
    "    function_names = []\n",
    "    for node in ast.walk(parsed_ast):\n",
    "        if isinstance(node, ast.FunctionDef):\n",
    "            function_names.append(node.name)\n",
    "    return function_names"
   ]
  },
  {
   "cell_type": "code",
   "execution_count": 13,
   "metadata": {},
   "outputs": [
    {
     "data": {
      "text/plain": [
       "['main']"
      ]
     },
     "execution_count": 13,
     "metadata": {},
     "output_type": "execute_result"
    }
   ],
   "source": [
    "extract_function_names(tree)"
   ]
  },
  {
   "cell_type": "code",
   "execution_count": 15,
   "metadata": {},
   "outputs": [
    {
     "name": "stdout",
     "output_type": "stream",
     "text": [
      "main.py: ['main']\n",
      "utils.py: ['greeting']\n"
     ]
    }
   ],
   "source": [
    "files = Path(\".\").glob(\"*.py\")\n",
    "for file in files:\n",
    "    content = file.read_text()\n",
    "    tree = ast.parse(content)\n",
    "    print(f\"{file}: {extract_function_names(tree)}\")"
   ]
  },
  {
   "cell_type": "markdown",
   "metadata": {},
   "source": [
    "## Extract called functions"
   ]
  },
  {
   "cell_type": "code",
   "execution_count": 31,
   "metadata": {},
   "outputs": [],
   "source": [
    "from collections import defaultdict\n",
    "\n",
    "def extract_function_calls(parsed_ast):\n",
    "\n",
    "    # Dictionary to store function_definition_name: [list of functions called within it]\n",
    "    func_calls = defaultdict(list)\n",
    "\n",
    "    # Traverse the AST to find function definitions\n",
    "    for node in ast.walk(parsed_ast):\n",
    "        if isinstance(node, ast.FunctionDef):\n",
    "            function_name = node.name\n",
    "\n",
    "            # Find all function calls within this function definition\n",
    "            for sub_node in ast.walk(node):\n",
    "                if isinstance(sub_node, ast.Call) and isinstance(sub_node.func, ast.Name):\n",
    "                    called_function_name = sub_node.func.id\n",
    "                    func_calls[function_name].append(called_function_name)\n",
    "\n",
    "    return func_calls"
   ]
  },
  {
   "cell_type": "code",
   "execution_count": 32,
   "metadata": {},
   "outputs": [
    {
     "name": "stdout",
     "output_type": "stream",
     "text": [
      "main.py: defaultdict(<class 'list'>, {'main': ['greeting']})\n",
      "utils.py: defaultdict(<class 'list'>, {'greeting': ['print']})\n"
     ]
    }
   ],
   "source": [
    "files = Path(\".\").glob(\"*.py\")\n",
    "for file in files:\n",
    "    content = file.read_text()\n",
    "    tree = ast.parse(content)\n",
    "    print(f\"{file}: {extract_function_calls(tree)}\")"
   ]
  },
  {
   "cell_type": "markdown",
   "metadata": {},
   "source": [
    "# Crawl"
   ]
  },
  {
   "cell_type": "code",
   "execution_count": 19,
   "metadata": {},
   "outputs": [],
   "source": [
    "function_definitions = {}\n",
    "for file in Path(\".\").glob(\"*.py\"):\n",
    "    # parse ast\n",
    "    content = file.read_text()\n",
    "    tree = ast.parse(content)\n",
    "\n",
    "    #\n",
    "    for func_definition in extract_function_names(tree):\n",
    "        function_definitions[func_definition] = file"
   ]
  },
  {
   "cell_type": "code",
   "execution_count": 20,
   "metadata": {},
   "outputs": [
    {
     "data": {
      "text/plain": [
       "{'main': WindowsPath('main.py'), 'greeting': WindowsPath('utils.py')}"
      ]
     },
     "execution_count": 20,
     "metadata": {},
     "output_type": "execute_result"
    }
   ],
   "source": [
    "function_definitions"
   ]
  },
  {
   "cell_type": "code",
   "execution_count": 22,
   "metadata": {},
   "outputs": [],
   "source": [
    "def get_function_source(file_path, function_name):\n",
    "    # Read the file content and parse it into an AST\n",
    "    with open(file_path, 'r') as f:\n",
    "        file_content = f.read()\n",
    "    parsed_ast = ast.parse(file_content)\n",
    "\n",
    "    # Find the function's node in the AST\n",
    "    for node in ast.walk(parsed_ast):\n",
    "        if isinstance(node, ast.FunctionDef) and node.name == function_name:\n",
    "            # Get the starting and ending line numbers of the function\n",
    "            start_line = node.lineno - 1  # Line numbers in AST are 1-based\n",
    "            end_line = node.end_lineno\n",
    "\n",
    "            # Read the file again to extract the function's source code\n",
    "            with open(file_path, 'r') as f:\n",
    "                lines = f.readlines()\n",
    "            function_source = ''.join(lines[start_line:end_line])\n",
    "\n",
    "            return function_source\n",
    "\n",
    "    return None  # If the function is not found"
   ]
  },
  {
   "cell_type": "code",
   "execution_count": 25,
   "metadata": {},
   "outputs": [],
   "source": [
    "function_contents = {}\n",
    "\n",
    "for func_name, file_path in function_definitions.items():\n",
    "    function_contents[func_name] = get_function_source(file_path, func_name)"
   ]
  },
  {
   "cell_type": "code",
   "execution_count": 26,
   "metadata": {},
   "outputs": [
    {
     "name": "stdout",
     "output_type": "stream",
     "text": [
      "{'main': 'def main():\\n    greeting(\"Hello World\")', 'greeting': 'def greeting(name):\\n    print(name)\\n'}\n"
     ]
    }
   ],
   "source": [
    "print(function_contents)"
   ]
  },
  {
   "cell_type": "code",
   "execution_count": 37,
   "metadata": {},
   "outputs": [],
   "source": [
    "function_calls = {}\n",
    "for file in Path(\".\").glob(\"*.py\"):\n",
    "    # parse ast\n",
    "    content = file.read_text()\n",
    "    tree = ast.parse(content)\n",
    "\n",
    "    for name,call_list in  extract_function_calls(tree).items():\n",
    "        function_calls[name] = call_list\n",
    "        "
   ]
  },
  {
   "cell_type": "code",
   "execution_count": 38,
   "metadata": {},
   "outputs": [
    {
     "data": {
      "text/plain": [
       "{'main': ['greeting'], 'greeting': ['print']}"
      ]
     },
     "execution_count": 38,
     "metadata": {},
     "output_type": "execute_result"
    }
   ],
   "source": [
    "function_calls"
   ]
  },
  {
   "cell_type": "code",
   "execution_count": 43,
   "metadata": {},
   "outputs": [],
   "source": [
    "with_code = {}\n",
    "\n",
    "for func_name, call_list in function_calls.items():\n",
    "    with_code[func_name] = [function_contents[func_name]] + [function_contents[call] for call in call_list if call in function_contents]"
   ]
  },
  {
   "cell_type": "code",
   "execution_count": 44,
   "metadata": {},
   "outputs": [
    {
     "data": {
      "text/plain": [
       "{'main': ['def main():\\n    greeting(\"Hello World\")',\n",
       "  'def greeting(name):\\n    print(name)\\n'],\n",
       " 'greeting': ['def greeting(name):\\n    print(name)\\n']}"
      ]
     },
     "execution_count": 44,
     "metadata": {},
     "output_type": "execute_result"
    }
   ],
   "source": [
    "with_code"
   ]
  },
  {
   "cell_type": "code",
   "execution_count": null,
   "metadata": {},
   "outputs": [],
   "source": []
  }
 ],
 "metadata": {
  "kernelspec": {
   "display_name": "pystuff",
   "language": "python",
   "name": "python3"
  },
  "language_info": {
   "codemirror_mode": {
    "name": "ipython",
    "version": 3
   },
   "file_extension": ".py",
   "mimetype": "text/x-python",
   "name": "python",
   "nbconvert_exporter": "python",
   "pygments_lexer": "ipython3",
   "version": "3.10.12"
  }
 },
 "nbformat": 4,
 "nbformat_minor": 2
}
